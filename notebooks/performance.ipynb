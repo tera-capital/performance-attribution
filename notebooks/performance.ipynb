{
 "cells": [
  {
   "cell_type": "markdown",
   "metadata": {},
   "source": [
    "TERA EQUITY Perfomance"
   ]
  },
  {
   "cell_type": "code",
   "execution_count": 2,
   "metadata": {},
   "outputs": [
    {
     "ename": "ImportError",
     "evalue": "'onedrivesdk' has been deprecated.\nVisit https://pypi.org/project/onedrivesdk for migration information.",
     "output_type": "error",
     "traceback": [
      "\u001b[0;31m---------------------------------------------------------------------------\u001b[0m",
      "\u001b[0;31mImportError\u001b[0m                               Traceback (most recent call last)",
      "Cell \u001b[0;32mIn[2], line 1\u001b[0m\n\u001b[0;32m----> 1\u001b[0m \u001b[39mimport\u001b[39;00m \u001b[39monedrivesdk\u001b[39;00m\n",
      "File \u001b[0;32m~/.python/current/lib/python3.10/site-packages/onedrivesdk/__init__.py:6\u001b[0m\n\u001b[1;32m      1\u001b[0m \u001b[39m# Copyright Microsoft Corporation. All rights reserved.\u001b[39;00m\n\u001b[1;32m      3\u001b[0m MESSAGE \u001b[39m=\u001b[39m \u001b[39m\"\"\"\u001b[39m\u001b[39m'\u001b[39m\u001b[39monedrivesdk\u001b[39m\u001b[39m'\u001b[39m\u001b[39m has been deprecated.\u001b[39m\n\u001b[1;32m      4\u001b[0m \u001b[39mVisit https://pypi.org/project/onedrivesdk for migration information.\u001b[39m\u001b[39m\"\"\"\u001b[39m\n\u001b[0;32m----> 6\u001b[0m \u001b[39mraise\u001b[39;00m \u001b[39mImportError\u001b[39;00m(MESSAGE)\n",
      "\u001b[0;31mImportError\u001b[0m: 'onedrivesdk' has been deprecated.\nVisit https://pypi.org/project/onedrivesdk for migration information."
     ]
    }
   ],
   "source": [
    "import os\n",
    "import requests\n",
    "from ms_graph import generate_access_token, GRAPH_API_ENDPOINT\n",
    "\n",
    "file_id = ['7BBAD843AD-9024-4F6A-B66E-84472AFD0922',\n",
    "           '7BAB841FF3-CA00-4AC4-95BB-B5710A4E5FDB',\n",
    "           '7B109FAE2A-7285-4ECC-989A-5B5A6C57CCA8',\n",
    "           '7BBC8C87BA-12B3-4C3C-B2C6-9F1D341BC6EC']"
   ]
  },
  {
   "cell_type": "code",
   "execution_count": null,
   "metadata": {},
   "outputs": [],
   "source": []
  }
 ],
 "metadata": {
  "kernelspec": {
   "display_name": "Python 3.10.4 64-bit",
   "language": "python",
   "name": "python3"
  },
  "language_info": {
   "codemirror_mode": {
    "name": "ipython",
    "version": 3
   },
   "file_extension": ".py",
   "mimetype": "text/x-python",
   "name": "python",
   "nbconvert_exporter": "python",
   "pygments_lexer": "ipython3",
   "version": "3.10.4"
  },
  "orig_nbformat": 4,
  "vscode": {
   "interpreter": {
    "hash": "3ad933181bd8a04b432d3370b9dc3b0662ad032c4dfaa4e4f1596c548f763858"
   }
  }
 },
 "nbformat": 4,
 "nbformat_minor": 2
}
